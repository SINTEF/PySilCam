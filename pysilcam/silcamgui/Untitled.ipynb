{
 "cells": [
  {
   "cell_type": "code",
   "execution_count": 12,
   "metadata": {
    "collapsed": true
   },
   "outputs": [],
   "source": [
    "import os\n",
    "import numpy as np\n",
    "import pandas as pd\n",
    "import matplotlib.pyplot as plt\n",
    "%matplotlib inline"
   ]
  },
  {
   "cell_type": "code",
   "execution_count": 10,
   "metadata": {
    "collapsed": false
   },
   "outputs": [],
   "source": [
    "def names_to_times(names):\n",
    "    times = []\n",
    "    for n in names:\n",
    "        name = os.path.split(n)[1]\n",
    "        times.append(pd.to_datetime(name[1:-4]))\n",
    "    return times"
   ]
  },
  {
   "cell_type": "code",
   "execution_count": 42,
   "metadata": {
    "collapsed": false
   },
   "outputs": [
    {
     "name": "stdout",
     "output_type": "stream",
     "text": [
      "\n"
     ]
    },
    {
     "data": {
      "image/png": "[encoded data removed]",
      "text/plain": [
       "<matplotlib.figure.Figure at 0x7fea6eec0e80>"
      ]
     },
     "metadata": {},
     "output_type": "display_data"
    }
   ],
   "source": [
    "datadir = '/mnt/ARRAY/ENTICE/Data/STN01/'\n",
    "\n",
    "files = [os.path.join(datadir, f) for f in\n",
    "    sorted(os.listdir(datadir))\n",
    "    if f.endswith('.bmp')]\n",
    "\n",
    "times = names_to_times(files)\n",
    "\n",
    "hz = []\n",
    "for i in range(len(files)-1):\n",
    "    dt = times[i+1] - times[i]\n",
    "    dt = dt / np.timedelta64(1, 's')\n",
    "    hz.append(1/dt)\n",
    "\n",
    "f, a = plt.subplots(1,2)\n",
    "plt.sca(a[0])\n",
    "plt.plot(times,np.arange(0,len(files)),'k.')\n",
    "\n",
    "plt.sca(a[1])\n",
    "# plt.plot(times[0:-1],hz,'k.')\n",
    "plt.hist(hz,bins=np.arange(0,7,0.1),color='k')\n",
    "\n",
    "print('')"
   ]
  }
 ],
 "metadata": {
  "anaconda-cloud": {},
  "kernelspec": {
   "display_name": "Python [default]",
   "language": "python",
   "name": "python3"
  },
  "language_info": {
   "codemirror_mode": {
    "name": "ipython",
    "version": 3
   },
   "file_extension": ".py",
   "mimetype": "text/x-python",
   "name": "python",
   "nbconvert_exporter": "python",
   "pygments_lexer": "ipython3",
   "version": "3.5.2"
  }
 },
 "nbformat": 4,
 "nbformat_minor": 1
}
