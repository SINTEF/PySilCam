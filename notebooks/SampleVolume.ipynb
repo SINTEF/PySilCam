{
 "cells": [
  {
   "cell_type": "markdown",
   "metadata": {},
   "source": [
    "# Quick calculations on sample volume and frequency"
   ]
  },
  {
   "cell_type": "code",
   "execution_count": 1,
   "metadata": {},
   "outputs": [],
   "source": [
    "import pysilcam.postprocess as scpp"
   ]
  },
  {
   "cell_type": "code",
   "execution_count": 2,
   "metadata": {},
   "outputs": [
    {
     "name": "stdout",
     "output_type": "stream",
     "text": [
      "Profile time: 3.3min\n",
      "Estimated images: 1000, totalling 15.0GB\n",
      "Estimated volume sampled: 26.0L\n",
      "--\n",
      "Total 3000 images, 45.0GB\n"
     ]
    }
   ],
   "source": [
    "profiling_speed = 1 # m/s\n",
    "sampling_frequency = 5 # hz\n",
    "profile_depth = 200 #m\n",
    "nprofiles = 3\n",
    "imsize = 15 # MB\n",
    "\n",
    "pix_size = 32.2 / 2448 * 1000 # um\n",
    "# pix_size = 67.4 / 2448 * 1000 # um\n",
    "\n",
    "sv = scpp.get_sample_volume(pix_size, path_length=30, imx=2048, imy=2448)\n",
    "\n",
    "profiling_time = profile_depth / profiling_speed\n",
    "print('Profile time: {0:.1f}min'.format(profiling_time/60))\n",
    "\n",
    "nims = profiling_time * sampling_frequency\n",
    "data_size = nims * imsize / 1000. # GB\n",
    "print('Estimated images: {0:.0f}, totalling {1:.1f}GB'.format(nims, data_size))\n",
    "\n",
    "sv *= nims\n",
    "print('Estimated volume sampled: {0:.1f}L'.format(sv))\n",
    "print('--')\n",
    "\n",
    "total_ims = nims * nprofiles\n",
    "total_data = total_ims * imsize / 1000.\n",
    "print('Total {0:.0f} images, {1:.1f}GB'.format(total_ims,total_data))"
   ]
  },
  {
   "cell_type": "code",
   "execution_count": 3,
   "metadata": {},
   "outputs": [
    {
     "name": "stdout",
     "output_type": "stream",
     "text": [
      "Transect time: 10.0min\n",
      "Estimated images per transect: 1200, totalling 18.0GB\n",
      "Estimated volume sampled: 31.2L\n",
      "--\n",
      "Total 1200 images, 18.0GB\n",
      "11% disc space used\n"
     ]
    }
   ],
   "source": [
    "vehicle_speed = 1 # m/s\n",
    "sampling_frequency = 2 # hz\n",
    "transect_length = 600 #m\n",
    "ntransects = 1\n",
    "imsize = 15 # MB\n",
    "disc_space = 170 # GB\n",
    "\n",
    "pix_size = 32.2 / 2448 * 1000 # um\n",
    "# pix_size = 67.4 / 2448 * 1000 # um\n",
    "\n",
    "sv = scpp.get_sample_volume(pix_size, path_length=30, imx=2048, imy=2448)\n",
    "\n",
    "transect_time = transect_length / vehicle_speed\n",
    "print('Transect time: {0:.1f}min'.format(transect_time/60))\n",
    "\n",
    "nims = transect_time * sampling_frequency\n",
    "data_size = nims * imsize / 1000. # GB\n",
    "print('Estimated images per transect: {0:.0f}, totalling {1:.1f}GB'.format(nims, data_size))\n",
    "\n",
    "sv *= nims\n",
    "print('Estimated volume sampled: {0:.1f}L'.format(sv))\n",
    "print('--')\n",
    "\n",
    "total_ims = nims * ntransects\n",
    "total_data = total_ims * imsize / 1000.\n",
    "print('Total {0:.0f} images, {1:.1f}GB'.format(total_ims,total_data))\n",
    "\n",
    "print('{0:.0f}% disc space used'.format(total_data/disc_space*100))"
   ]
  }
 ],
 "metadata": {
  "anaconda-cloud": {},
  "kernelspec": {
   "display_name": "Python 3",
   "language": "python",
   "name": "python3"
  },
  "language_info": {
   "codemirror_mode": {
    "name": "ipython",
    "version": 3
   },
   "file_extension": ".py",
   "mimetype": "text/x-python",
   "name": "python",
   "nbconvert_exporter": "python",
   "pygments_lexer": "ipython3",
   "version": "3.5.5"
  }
 },
 "nbformat": 4,
 "nbformat_minor": 1
}
